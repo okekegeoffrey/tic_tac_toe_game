{
 "cells": [
  {
   "cell_type": "code",
   "execution_count": 1,
   "metadata": {},
   "outputs": [],
   "source": [
    "from IPython.display import clear_output"
   ]
  },
  {
   "cell_type": "code",
   "execution_count": 2,
   "metadata": {},
   "outputs": [],
   "source": [
    "# 1 Board outline\n",
    "def display_board(board):\n",
    "    \n",
    "    clear_output()\n",
    "    print('  |   |')\n",
    "    print(board[7] + ' | ' + board[8] + ' | ' + board[9])\n",
    "    print('  |   |')\n",
    "    print('----------')\n",
    "    print('  |   |')\n",
    "    print(board[4] + ' | ' + board[5] + ' | ' + board[6])\n",
    "    print('  |   |')\n",
    "    print('----------')\n",
    "    print('  |   |')\n",
    "    print(board[1] + ' | ' + board[2] + ' | ' + board[3])\n",
    "    print('  |   |')"
   ]
  },
  {
   "cell_type": "code",
   "execution_count": 3,
   "metadata": {},
   "outputs": [],
   "source": [
    "test_board = ['#', 'X', 'O', 'X', 'O', 'X', 'O', 'X', 'O', 'X']"
   ]
  },
  {
   "cell_type": "code",
   "execution_count": 4,
   "metadata": {},
   "outputs": [
    {
     "name": "stdout",
     "output_type": "stream",
     "text": [
      "  |   |\n",
      "X | O | X\n",
      "  |   |\n",
      "----------\n",
      "  |   |\n",
      "O | X | O\n",
      "  |   |\n",
      "----------\n",
      "  |   |\n",
      "X | O | X\n",
      "  |   |\n"
     ]
    }
   ],
   "source": [
    "display_board(test_board)\n",
    "display_board(test_board)\n",
    "display_board(test_board)"
   ]
  },
  {
   "cell_type": "code",
   "execution_count": 5,
   "metadata": {},
   "outputs": [],
   "source": [
    "# 2 collect input from a player\n",
    "def player_input():\n",
    "    \n",
    "    \"\"\"\n",
    "    OUTPUT = (Player 1 marker, Player 2 marker)\n",
    "    \"\"\"\n",
    "    \n",
    "    marker = ''\n",
    "    \n",
    "    # Keep asking player 1 to choose X or O\n",
    "    while marker != 'X' and marker != 'O':\n",
    "        marker = input('Player1: Choose X or O: ').upper()\n",
    "    \n",
    "    # once player1 chooses one marker, the other goes to player2\n",
    "    if marker == 'X':\n",
    "        return ('X', 'O')\n",
    "    else:\n",
    "        return ('O', 'X')"
   ]
  },
  {
   "cell_type": "code",
   "execution_count": 6,
   "metadata": {},
   "outputs": [
    {
     "name": "stdout",
     "output_type": "stream",
     "text": [
      "Player1: Choose X or O: x\n"
     ]
    }
   ],
   "source": [
    "player1_marker, player2_marker = player_input()"
   ]
  },
  {
   "cell_type": "code",
   "execution_count": 7,
   "metadata": {},
   "outputs": [
    {
     "data": {
      "text/plain": [
       "'O'"
      ]
     },
     "execution_count": 7,
     "metadata": {},
     "output_type": "execute_result"
    }
   ],
   "source": [
    "player2_marker"
   ]
  },
  {
   "cell_type": "code",
   "execution_count": 8,
   "metadata": {},
   "outputs": [],
   "source": [
    "# 3 function that takes in the board list object, a marker ('X' or 'O'), and\n",
    "# a desired position (number 1-9) and assigns it to the board.\n",
    "\n",
    "def place_marker(board, marker, position):\n",
    "    \n",
    "    board[position] = marker"
   ]
  },
  {
   "cell_type": "code",
   "execution_count": 9,
   "metadata": {},
   "outputs": [
    {
     "data": {
      "text/plain": [
       "['#', 'X', 'O', 'X', 'O', 'X', 'O', 'X', 'O', 'X']"
      ]
     },
     "execution_count": 9,
     "metadata": {},
     "output_type": "execute_result"
    }
   ],
   "source": [
    "test_board"
   ]
  },
  {
   "cell_type": "code",
   "execution_count": 10,
   "metadata": {},
   "outputs": [
    {
     "name": "stdout",
     "output_type": "stream",
     "text": [
      "  |   |\n",
      "X | $ | X\n",
      "  |   |\n",
      "----------\n",
      "  |   |\n",
      "O | X | O\n",
      "  |   |\n",
      "----------\n",
      "  |   |\n",
      "X | O | X\n",
      "  |   |\n"
     ]
    }
   ],
   "source": [
    "place_marker(test_board, '$', 8)\n",
    "display_board(test_board)"
   ]
  },
  {
   "cell_type": "code",
   "execution_count": 11,
   "metadata": {},
   "outputs": [
    {
     "data": {
      "text/plain": [
       "['#', 'X', 'O', 'X', 'O', 'X', 'O', 'X', '$', 'X']"
      ]
     },
     "execution_count": 11,
     "metadata": {},
     "output_type": "execute_result"
    }
   ],
   "source": [
    "test_board"
   ]
  },
  {
   "cell_type": "code",
   "execution_count": 12,
   "metadata": {},
   "outputs": [],
   "source": [
    "# 4 function that takes in a board and a mark (X or O) and checks to see if \n",
    "# that mark has won\n",
    "\n",
    "# check all horrizontally, all vertally and both ways of diagonal\n",
    "\n",
    "def win_check(board, mark):\n",
    "    \n",
    "    return ((board[7] == mark and board[8] == mark and board[9] == mark) or    # across top\n",
    "           (board[4] == mark and board[5] == mark and board[6] == mark) or     # across middle\n",
    "           (board[1] == mark and board[2] == mark and board[3] == mark) or     # across bottom\n",
    "           (board[7] == mark and board[4] == mark and board[1] == mark) or     # down left\n",
    "           (board[8] == mark and board[5] == mark and board[2] == mark) or     # down middle\n",
    "           (board[9] == mark and board[6] == mark and board[3] == mark) or     # down right\n",
    "           (board[9] == mark and board[5] == mark and board[1] == mark) or     # across diagonal\n",
    "           (board[7] == mark and board[5] == mark and board[3] == mark))    # across diagonal"
   ]
  },
  {
   "cell_type": "code",
   "execution_count": 13,
   "metadata": {},
   "outputs": [
    {
     "name": "stdout",
     "output_type": "stream",
     "text": [
      "  |   |\n",
      "X | $ | X\n",
      "  |   |\n",
      "----------\n",
      "  |   |\n",
      "O | X | O\n",
      "  |   |\n",
      "----------\n",
      "  |   |\n",
      "X | O | X\n",
      "  |   |\n"
     ]
    },
    {
     "data": {
      "text/plain": [
       "True"
      ]
     },
     "execution_count": 13,
     "metadata": {},
     "output_type": "execute_result"
    }
   ],
   "source": [
    "display_board(test_board)\n",
    "win_check(test_board, 'X')"
   ]
  },
  {
   "cell_type": "code",
   "execution_count": 14,
   "metadata": {},
   "outputs": [],
   "source": [
    "# 5 write a function that randomly chooses which player goes first\n",
    "\n",
    "import random\n",
    "\n",
    "def choose_first():\n",
    "    \n",
    "    flip = random.randint(0,1)\n",
    "    \n",
    "    if flip == 0:\n",
    "        return 'Player 1'\n",
    "    else:\n",
    "        return 'Player 2'"
   ]
  },
  {
   "cell_type": "code",
   "execution_count": 15,
   "metadata": {},
   "outputs": [],
   "source": [
    "# 6 function that returns a boolean indicating whether a space on the board is freely available\n",
    "\n",
    "def space_check(board, position):\n",
    "    \n",
    "    return board[position] == ' '"
   ]
  },
  {
   "cell_type": "code",
   "execution_count": 16,
   "metadata": {},
   "outputs": [],
   "source": [
    "# 7 function that checks if the board is full and returns a boolean value. True if full, False otherwise\n",
    "\n",
    "def full_board_check(board):\n",
    "    \n",
    "    for i in range(1, 10):\n",
    "        if space_check(board,i):\n",
    "            return False\n",
    "        \n",
    "    # Board is full\n",
    "    return True"
   ]
  },
  {
   "cell_type": "code",
   "execution_count": 17,
   "metadata": {},
   "outputs": [],
   "source": [
    "# 8 function that asks for a player's nxt position (as a number 1-9) and then uses the function from step 6 to check if it's a free\n",
    "# position. If it is, then return for a later use.\n",
    "\n",
    "def player_choice(board):\n",
    "    \n",
    "    position = 0\n",
    "    \n",
    "    while position not in [1,2,3,4,5,6,7,8,9] or not space_check(board, position):\n",
    "        position = int(input(\"Choose a position: (1-9) \"))\n",
    "    \n",
    "    return position"
   ]
  },
  {
   "cell_type": "code",
   "execution_count": 18,
   "metadata": {},
   "outputs": [],
   "source": [
    "# 9 function that asks a player if they want to play again and return a boolean True if they do want to play again\n",
    "\n",
    "def replay():\n",
    "    \n",
    "    choice = input(\"Play again? Enter Yes or No\").capitalize()\n",
    "    \n",
    "    return choice == 'Yes'"
   ]
  },
  {
   "cell_type": "code",
   "execution_count": null,
   "metadata": {},
   "outputs": [],
   "source": []
  },
  {
   "cell_type": "markdown",
   "metadata": {},
   "source": [
    "# Put the Game Together"
   ]
  },
  {
   "cell_type": "code",
   "execution_count": 19,
   "metadata": {},
   "outputs": [
    {
     "name": "stdout",
     "output_type": "stream",
     "text": [
      "  |   |\n",
      "O | O | X\n",
      "  |   |\n",
      "----------\n",
      "  |   |\n",
      "O | X | X\n",
      "  |   |\n",
      "----------\n",
      "  |   |\n",
      "X | X | O\n",
      "  |   |\n",
      "PLAYER 2 HAS WON!!\n",
      "Play again? Enter Yes or Nono\n"
     ]
    }
   ],
   "source": [
    "# WHILE LOOP TO RUNNING THE GAME\n",
    "print(\"Welcome to TIC TAC TOE\")\n",
    "\n",
    "while True:\n",
    "    \n",
    "    # PLAY THE GAME\n",
    "    \n",
    "    ## SET EVERYTHING UP (BOARD, WHO'S FIRST, CHOOSE MARKER)\n",
    "    the_board = [' '] * 10\n",
    "    player1_marker, player2_marker = player_input()\n",
    "    \n",
    "    turn = choose_first()\n",
    "    print(f'{turn} will go first')\n",
    "    \n",
    "    play_game = input ('Ready to play? y or n? ')\n",
    "    \n",
    "    if play_game == 'y':\n",
    "        game_on = True\n",
    "    else:\n",
    "        game_on = False\n",
    "        \n",
    "    ## GAME PLAY\n",
    "    \n",
    "    while game_on:\n",
    "        \n",
    "         ### PLAYER ONE TURN\n",
    "        if turn == 'Player 1':\n",
    "            \n",
    "            # show the board\n",
    "            display_board(the_board)\n",
    "            \n",
    "            # choose a position\n",
    "            position = player_choice(the_board)\n",
    "            \n",
    "            # place a marker on the position\n",
    "            place_marker(the_board, player1_marker, position)\n",
    "            \n",
    "            # check if they won\n",
    "            if win_check(the_board, player1_marker):\n",
    "                display_board(the_board)\n",
    "                print(\"PLAYER 1 HAS WON!!\")\n",
    "                game_on = False\n",
    "            else:\n",
    "                \n",
    "                # or check if there is a tie\n",
    "                if full_board_check(the_board):\n",
    "                    display_board(the_board)\n",
    "                    print('TIE GAME!!')\n",
    "                    game_on = False\n",
    "                else:\n",
    "                    \n",
    "                    # no tie, and no win? Then nxt player's turn\n",
    "                    turn = 'Player 2'\n",
    "        else:\n",
    "            ### PLAYER TWO TURN\n",
    "            \n",
    "            # show the board\n",
    "            display_board(the_board)\n",
    "            \n",
    "            # choose a position\n",
    "            position = player_choice(the_board)\n",
    "            \n",
    "            # place a marker on the position\n",
    "            place_marker(the_board, player2_marker, position)\n",
    "            \n",
    "            # check if they won\n",
    "            if win_check(the_board, player2_marker):\n",
    "                display_board(the_board)\n",
    "                print(\"PLAYER 2 HAS WON!!\")\n",
    "                game_on = False\n",
    "            else:\n",
    "                \n",
    "                # or check if there is a tie\n",
    "                if full_board_check(the_board):\n",
    "                    display_board(the_board)\n",
    "                    print('TIE GAME!!')\n",
    "                    game_on = False\n",
    "                else:\n",
    "                    \n",
    "                    # no tie, and no win? Then nxt player's turn\n",
    "                    turn = 'Player 1'    \n",
    "        \n",
    "        \n",
    "        \n",
    "        \n",
    "    # BREAK OUT OF THE WHILE LOOP ON replay()\n",
    "    if not replay():\n",
    "        break"
   ]
  },
  {
   "cell_type": "code",
   "execution_count": null,
   "metadata": {},
   "outputs": [],
   "source": []
  }
 ],
 "metadata": {
  "kernelspec": {
   "display_name": "Python 3",
   "language": "python",
   "name": "python3"
  },
  "language_info": {
   "codemirror_mode": {
    "name": "ipython",
    "version": 3
   },
   "file_extension": ".py",
   "mimetype": "text/x-python",
   "name": "python",
   "nbconvert_exporter": "python",
   "pygments_lexer": "ipython3",
   "version": "3.7.3"
  }
 },
 "nbformat": 4,
 "nbformat_minor": 2
}
